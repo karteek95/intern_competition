{
 "cells": [
  {
   "cell_type": "markdown",
   "metadata": {},
   "source": [
    "### Objective:combine data in flow,apnea and stage by considering start time and duration of Apnea and Stage"
   ]
  },
  {
   "cell_type": "markdown",
   "metadata": {},
   "source": [
    "### Preparing data from 'Apnea' xml file"
   ]
  },
  {
   "cell_type": "code",
   "execution_count": 165,
   "metadata": {},
   "outputs": [
    {
     "data": {
      "text/plain": [
       "<Element 'CMPStudyConfig' at 0x000001E8C6E4F368>"
      ]
     },
     "execution_count": 165,
     "metadata": {},
     "output_type": "execute_result"
    }
   ],
   "source": [
    "#https://docs.python.org/2/library/xml.etree.elementtree.html#xml.etree.ElementTree.ElementTree\n",
    "from xml.etree.ElementTree import ElementTree\n",
    "import pandas as pd\n",
    "import numpy as np\n",
    "doc=ElementTree()\n",
    "doc.parse('data/apnea/mesa-sleep-0001-profusion.xml')"
   ]
  },
  {
   "cell_type": "code",
   "execution_count": 166,
   "metadata": {},
   "outputs": [],
   "source": [
    "#initializing apnea_data dataframe with required columns\n",
    "apnea_data=pd.DataFrame(columns=['Duration','Input','Name','Start'])"
   ]
  },
  {
   "cell_type": "code",
   "execution_count": 167,
   "metadata": {},
   "outputs": [],
   "source": [
    "i=0\n",
    "for event in doc.find('ScoredEvents'):\n",
    "    duration=event.find('Duration').text\n",
    "    inp=event.find('Input').text\n",
    "    name=event.find('Name').text\n",
    "    start=event.find('Start').text\n",
    "    if(name==\"Hypopnea\"):\n",
    "        apnea_data.loc[i]=[duration,inp,name,start]\n",
    "        i=i+1"
   ]
  },
  {
   "cell_type": "code",
   "execution_count": 168,
   "metadata": {},
   "outputs": [
    {
     "data": {
      "text/html": [
       "<div>\n",
       "<style scoped>\n",
       "    .dataframe tbody tr th:only-of-type {\n",
       "        vertical-align: middle;\n",
       "    }\n",
       "\n",
       "    .dataframe tbody tr th {\n",
       "        vertical-align: top;\n",
       "    }\n",
       "\n",
       "    .dataframe thead th {\n",
       "        text-align: right;\n",
       "    }\n",
       "</style>\n",
       "<table border=\"1\" class=\"dataframe\">\n",
       "  <thead>\n",
       "    <tr style=\"text-align: right;\">\n",
       "      <th></th>\n",
       "      <th>Duration</th>\n",
       "      <th>Input</th>\n",
       "      <th>Name</th>\n",
       "      <th>Start</th>\n",
       "    </tr>\n",
       "  </thead>\n",
       "  <tbody>\n",
       "    <tr>\n",
       "      <th>0</th>\n",
       "      <td>12.3</td>\n",
       "      <td>Flow</td>\n",
       "      <td>Hypopnea</td>\n",
       "      <td>6114.7</td>\n",
       "    </tr>\n",
       "    <tr>\n",
       "      <th>1</th>\n",
       "      <td>11.1</td>\n",
       "      <td>Flow</td>\n",
       "      <td>Hypopnea</td>\n",
       "      <td>6188.9</td>\n",
       "    </tr>\n",
       "    <tr>\n",
       "      <th>2</th>\n",
       "      <td>12</td>\n",
       "      <td>Flow</td>\n",
       "      <td>Hypopnea</td>\n",
       "      <td>5489.7</td>\n",
       "    </tr>\n",
       "    <tr>\n",
       "      <th>3</th>\n",
       "      <td>10.7</td>\n",
       "      <td>Flow</td>\n",
       "      <td>Hypopnea</td>\n",
       "      <td>5552.1</td>\n",
       "    </tr>\n",
       "    <tr>\n",
       "      <th>4</th>\n",
       "      <td>11.2</td>\n",
       "      <td>Flow</td>\n",
       "      <td>Hypopnea</td>\n",
       "      <td>5573.4</td>\n",
       "    </tr>\n",
       "  </tbody>\n",
       "</table>\n",
       "</div>"
      ],
      "text/plain": [
       "  Duration Input      Name   Start\n",
       "0     12.3  Flow  Hypopnea  6114.7\n",
       "1     11.1  Flow  Hypopnea  6188.9\n",
       "2       12  Flow  Hypopnea  5489.7\n",
       "3     10.7  Flow  Hypopnea  5552.1\n",
       "4     11.2  Flow  Hypopnea  5573.4"
      ]
     },
     "execution_count": 168,
     "metadata": {},
     "output_type": "execute_result"
    }
   ],
   "source": [
    "#printting few lines from top of the dataframe\n",
    "apnea_data.head()"
   ]
  },
  {
   "cell_type": "code",
   "execution_count": 169,
   "metadata": {},
   "outputs": [],
   "source": [
    "apnea_data['Duration']=apnea_data['Duration'].astype('float')\n",
    "apnea_data['Start']=apnea_data['Start'].astype('float')"
   ]
  },
  {
   "cell_type": "code",
   "execution_count": 170,
   "metadata": {},
   "outputs": [],
   "source": [
    "#adding stop column to dataframe using start and duration\n",
    "apnea_data['Stop']=apnea_data['Start']+apnea_data['Duration']"
   ]
  },
  {
   "cell_type": "code",
   "execution_count": 171,
   "metadata": {},
   "outputs": [
    {
     "data": {
      "text/html": [
       "<div>\n",
       "<style scoped>\n",
       "    .dataframe tbody tr th:only-of-type {\n",
       "        vertical-align: middle;\n",
       "    }\n",
       "\n",
       "    .dataframe tbody tr th {\n",
       "        vertical-align: top;\n",
       "    }\n",
       "\n",
       "    .dataframe thead th {\n",
       "        text-align: right;\n",
       "    }\n",
       "</style>\n",
       "<table border=\"1\" class=\"dataframe\">\n",
       "  <thead>\n",
       "    <tr style=\"text-align: right;\">\n",
       "      <th></th>\n",
       "      <th>Duration</th>\n",
       "      <th>Input</th>\n",
       "      <th>Name</th>\n",
       "      <th>Start</th>\n",
       "      <th>Stop</th>\n",
       "    </tr>\n",
       "  </thead>\n",
       "  <tbody>\n",
       "    <tr>\n",
       "      <th>0</th>\n",
       "      <td>12.3</td>\n",
       "      <td>Flow</td>\n",
       "      <td>Hypopnea</td>\n",
       "      <td>6114.7</td>\n",
       "      <td>6127.0</td>\n",
       "    </tr>\n",
       "    <tr>\n",
       "      <th>1</th>\n",
       "      <td>11.1</td>\n",
       "      <td>Flow</td>\n",
       "      <td>Hypopnea</td>\n",
       "      <td>6188.9</td>\n",
       "      <td>6200.0</td>\n",
       "    </tr>\n",
       "    <tr>\n",
       "      <th>2</th>\n",
       "      <td>12.0</td>\n",
       "      <td>Flow</td>\n",
       "      <td>Hypopnea</td>\n",
       "      <td>5489.7</td>\n",
       "      <td>5501.7</td>\n",
       "    </tr>\n",
       "    <tr>\n",
       "      <th>3</th>\n",
       "      <td>10.7</td>\n",
       "      <td>Flow</td>\n",
       "      <td>Hypopnea</td>\n",
       "      <td>5552.1</td>\n",
       "      <td>5562.8</td>\n",
       "    </tr>\n",
       "    <tr>\n",
       "      <th>4</th>\n",
       "      <td>11.2</td>\n",
       "      <td>Flow</td>\n",
       "      <td>Hypopnea</td>\n",
       "      <td>5573.4</td>\n",
       "      <td>5584.6</td>\n",
       "    </tr>\n",
       "  </tbody>\n",
       "</table>\n",
       "</div>"
      ],
      "text/plain": [
       "   Duration Input      Name   Start    Stop\n",
       "0      12.3  Flow  Hypopnea  6114.7  6127.0\n",
       "1      11.1  Flow  Hypopnea  6188.9  6200.0\n",
       "2      12.0  Flow  Hypopnea  5489.7  5501.7\n",
       "3      10.7  Flow  Hypopnea  5552.1  5562.8\n",
       "4      11.2  Flow  Hypopnea  5573.4  5584.6"
      ]
     },
     "execution_count": 171,
     "metadata": {},
     "output_type": "execute_result"
    }
   ],
   "source": [
    "apnea_data.head()"
   ]
  },
  {
   "cell_type": "markdown",
   "metadata": {},
   "source": [
    "### Preparing data from 'flow'"
   ]
  },
  {
   "cell_type": "code",
   "execution_count": 3,
   "metadata": {},
   "outputs": [],
   "source": [
    "import pyedflib\n",
    "import numpy as np\n",
    "f=pyedflib.EdfReader('data/flow/mesa-sleep-0001.edf')"
   ]
  },
  {
   "cell_type": "code",
   "execution_count": 37,
   "metadata": {},
   "outputs": [
    {
     "name": "stdout",
     "output_type": "stream",
     "text": [
      "number of signals in file 27\n"
     ]
    }
   ],
   "source": [
    "n=f.signals_in_file\n",
    "print('number of signals in file',n)"
   ]
  },
  {
   "cell_type": "code",
   "execution_count": 38,
   "metadata": {},
   "outputs": [
    {
     "name": "stdout",
     "output_type": "stream",
     "text": [
      "['EKG', 'EOG-L', 'EOG-R', 'EMG', 'EEG1', 'EEG2', 'EEG3', 'Pres', 'Flow', 'Snore', 'Thor', 'Abdo', 'Leg', 'Therm', 'Pos', 'EKG_Off', 'EOG-L_Off', 'EOG-R_Off', 'EMG_Off', 'EEG1_Off', 'EEG2_Off', 'EEG3_Off', 'Pleth', 'OxStatus', 'SpO2', 'HR', 'DHR']\n"
     ]
    }
   ],
   "source": [
    "signal_labels = f.getSignalLabels()\n",
    "#printing signal labels\n",
    "print(signal_labels)"
   ]
  },
  {
   "cell_type": "code",
   "execution_count": 229,
   "metadata": {},
   "outputs": [],
   "source": [
    "#reading the signal having index'8' which is 'Flow'\n",
    "l=f.readSignal(8)"
   ]
  },
  {
   "cell_type": "code",
   "execution_count": 230,
   "metadata": {},
   "outputs": [],
   "source": [
    "import numpy as np\n",
    "epoch=0    #epoch initialized with value '0'\n",
    "d={}\n",
    "for s in l:\n",
    "    d[epoch]=np.round(s,5)\n",
    "    epoch=epoch+0.03125   #increse by '1/32' in each loop"
   ]
  },
  {
   "cell_type": "code",
   "execution_count": 231,
   "metadata": {},
   "outputs": [],
   "source": [
    "#preparing dataframe with columns from dictionary\n",
    "edf_data=pd.DataFrame.from_dict(d,orient='index')"
   ]
  },
  {
   "cell_type": "code",
   "execution_count": 232,
   "metadata": {},
   "outputs": [],
   "source": [
    "edf_data=edf_data.reset_index()"
   ]
  },
  {
   "cell_type": "code",
   "execution_count": 233,
   "metadata": {},
   "outputs": [],
   "source": [
    "edf_data=edf_data.rename({'index':'Time',0:'Flow'},axis='columns')"
   ]
  },
  {
   "cell_type": "code",
   "execution_count": 234,
   "metadata": {},
   "outputs": [],
   "source": [
    "edf_data.sort_values(by='Time',inplace=True,ascending='True')"
   ]
  },
  {
   "cell_type": "code",
   "execution_count": 235,
   "metadata": {},
   "outputs": [],
   "source": [
    "edf_data=edf_data.reset_index(drop=True)"
   ]
  },
  {
   "cell_type": "code",
   "execution_count": 236,
   "metadata": {},
   "outputs": [
    {
     "data": {
      "text/html": [
       "<div>\n",
       "<style scoped>\n",
       "    .dataframe tbody tr th:only-of-type {\n",
       "        vertical-align: middle;\n",
       "    }\n",
       "\n",
       "    .dataframe tbody tr th {\n",
       "        vertical-align: top;\n",
       "    }\n",
       "\n",
       "    .dataframe thead th {\n",
       "        text-align: right;\n",
       "    }\n",
       "</style>\n",
       "<table border=\"1\" class=\"dataframe\">\n",
       "  <thead>\n",
       "    <tr style=\"text-align: right;\">\n",
       "      <th></th>\n",
       "      <th>Time</th>\n",
       "      <th>Flow</th>\n",
       "    </tr>\n",
       "  </thead>\n",
       "  <tbody>\n",
       "    <tr>\n",
       "      <th>0</th>\n",
       "      <td>0.00000</td>\n",
       "      <td>-0.06986</td>\n",
       "    </tr>\n",
       "    <tr>\n",
       "      <th>1</th>\n",
       "      <td>0.03125</td>\n",
       "      <td>-0.08927</td>\n",
       "    </tr>\n",
       "    <tr>\n",
       "      <th>2</th>\n",
       "      <td>0.06250</td>\n",
       "      <td>-0.09018</td>\n",
       "    </tr>\n",
       "    <tr>\n",
       "      <th>3</th>\n",
       "      <td>0.09375</td>\n",
       "      <td>-0.09165</td>\n",
       "    </tr>\n",
       "    <tr>\n",
       "      <th>4</th>\n",
       "      <td>0.12500</td>\n",
       "      <td>-0.09384</td>\n",
       "    </tr>\n",
       "  </tbody>\n",
       "</table>\n",
       "</div>"
      ],
      "text/plain": [
       "      Time     Flow\n",
       "0  0.00000 -0.06986\n",
       "1  0.03125 -0.08927\n",
       "2  0.06250 -0.09018\n",
       "3  0.09375 -0.09165\n",
       "4  0.12500 -0.09384"
      ]
     },
     "execution_count": 236,
     "metadata": {},
     "output_type": "execute_result"
    }
   ],
   "source": [
    "edf_data.head()"
   ]
  },
  {
   "cell_type": "code",
   "execution_count": 237,
   "metadata": {},
   "outputs": [
    {
     "data": {
      "text/html": [
       "<div>\n",
       "<style scoped>\n",
       "    .dataframe tbody tr th:only-of-type {\n",
       "        vertical-align: middle;\n",
       "    }\n",
       "\n",
       "    .dataframe tbody tr th {\n",
       "        vertical-align: top;\n",
       "    }\n",
       "\n",
       "    .dataframe thead th {\n",
       "        text-align: right;\n",
       "    }\n",
       "</style>\n",
       "<table border=\"1\" class=\"dataframe\">\n",
       "  <thead>\n",
       "    <tr style=\"text-align: right;\">\n",
       "      <th></th>\n",
       "      <th>Time</th>\n",
       "      <th>Flow</th>\n",
       "    </tr>\n",
       "  </thead>\n",
       "  <tbody>\n",
       "    <tr>\n",
       "      <th>1382363</th>\n",
       "      <td>43198.84375</td>\n",
       "      <td>-0.00339</td>\n",
       "    </tr>\n",
       "    <tr>\n",
       "      <th>1382364</th>\n",
       "      <td>43198.87500</td>\n",
       "      <td>0.00046</td>\n",
       "    </tr>\n",
       "    <tr>\n",
       "      <th>1382365</th>\n",
       "      <td>43198.90625</td>\n",
       "      <td>0.00375</td>\n",
       "    </tr>\n",
       "    <tr>\n",
       "      <th>1382366</th>\n",
       "      <td>43198.93750</td>\n",
       "      <td>0.00156</td>\n",
       "    </tr>\n",
       "    <tr>\n",
       "      <th>1382367</th>\n",
       "      <td>43198.96875</td>\n",
       "      <td>0.00027</td>\n",
       "    </tr>\n",
       "  </tbody>\n",
       "</table>\n",
       "</div>"
      ],
      "text/plain": [
       "                Time     Flow\n",
       "1382363  43198.84375 -0.00339\n",
       "1382364  43198.87500  0.00046\n",
       "1382365  43198.90625  0.00375\n",
       "1382366  43198.93750  0.00156\n",
       "1382367  43198.96875  0.00027"
      ]
     },
     "execution_count": 237,
     "metadata": {},
     "output_type": "execute_result"
    }
   ],
   "source": [
    "edf_data.tail()"
   ]
  },
  {
   "cell_type": "markdown",
   "metadata": {},
   "source": [
    "### Preparing data from 'Stage'"
   ]
  },
  {
   "cell_type": "code",
   "execution_count": 238,
   "metadata": {},
   "outputs": [
    {
     "data": {
      "text/plain": [
       "<Element 'PSGAnnotation' at 0x000001E88900A278>"
      ]
     },
     "execution_count": 238,
     "metadata": {},
     "output_type": "execute_result"
    }
   ],
   "source": [
    "doc=ElementTree()\n",
    "doc.parse('data/stage/mesa-sleep-0001-nsrr.xml')"
   ]
  },
  {
   "cell_type": "code",
   "execution_count": 239,
   "metadata": {},
   "outputs": [],
   "source": [
    "#initializing stage dataframe with required columns\n",
    "stage_data=pd.DataFrame(columns=['Duration','Stages','Start','Type'])"
   ]
  },
  {
   "cell_type": "code",
   "execution_count": 240,
   "metadata": {},
   "outputs": [],
   "source": [
    "i=0\n",
    "for event in doc.find('ScoredEvents'):\n",
    "    duration=event.find('Duration').text\n",
    "    stage=event.find('EventConcept').text\n",
    "    start=event.find('Start').text\n",
    "    typ=event.find('EventType').text\n",
    "    if(typ==\"Stages|Stages\"):\n",
    "        stage_data.loc[i]=[duration,stage,start,typ]\n",
    "        i=i+1\n",
    "        #print(duration,':',stage,':',start,':',typ)"
   ]
  },
  {
   "cell_type": "code",
   "execution_count": 241,
   "metadata": {},
   "outputs": [
    {
     "data": {
      "text/html": [
       "<div>\n",
       "<style scoped>\n",
       "    .dataframe tbody tr th:only-of-type {\n",
       "        vertical-align: middle;\n",
       "    }\n",
       "\n",
       "    .dataframe tbody tr th {\n",
       "        vertical-align: top;\n",
       "    }\n",
       "\n",
       "    .dataframe thead th {\n",
       "        text-align: right;\n",
       "    }\n",
       "</style>\n",
       "<table border=\"1\" class=\"dataframe\">\n",
       "  <thead>\n",
       "    <tr style=\"text-align: right;\">\n",
       "      <th></th>\n",
       "      <th>Duration</th>\n",
       "      <th>Stages</th>\n",
       "      <th>Start</th>\n",
       "      <th>Type</th>\n",
       "    </tr>\n",
       "  </thead>\n",
       "  <tbody>\n",
       "    <tr>\n",
       "      <th>0</th>\n",
       "      <td>5190.0</td>\n",
       "      <td>Wake|0</td>\n",
       "      <td>0.0</td>\n",
       "      <td>Stages|Stages</td>\n",
       "    </tr>\n",
       "    <tr>\n",
       "      <th>1</th>\n",
       "      <td>30.0</td>\n",
       "      <td>Stage 1 sleep|1</td>\n",
       "      <td>5190.0</td>\n",
       "      <td>Stages|Stages</td>\n",
       "    </tr>\n",
       "    <tr>\n",
       "      <th>2</th>\n",
       "      <td>90.0</td>\n",
       "      <td>Wake|0</td>\n",
       "      <td>5220.0</td>\n",
       "      <td>Stages|Stages</td>\n",
       "    </tr>\n",
       "    <tr>\n",
       "      <th>3</th>\n",
       "      <td>60.0</td>\n",
       "      <td>Stage 1 sleep|1</td>\n",
       "      <td>5310.0</td>\n",
       "      <td>Stages|Stages</td>\n",
       "    </tr>\n",
       "    <tr>\n",
       "      <th>4</th>\n",
       "      <td>90.0</td>\n",
       "      <td>Stage 2 sleep|2</td>\n",
       "      <td>5370.0</td>\n",
       "      <td>Stages|Stages</td>\n",
       "    </tr>\n",
       "  </tbody>\n",
       "</table>\n",
       "</div>"
      ],
      "text/plain": [
       "  Duration           Stages   Start           Type\n",
       "0   5190.0           Wake|0     0.0  Stages|Stages\n",
       "1     30.0  Stage 1 sleep|1  5190.0  Stages|Stages\n",
       "2     90.0           Wake|0  5220.0  Stages|Stages\n",
       "3     60.0  Stage 1 sleep|1  5310.0  Stages|Stages\n",
       "4     90.0  Stage 2 sleep|2  5370.0  Stages|Stages"
      ]
     },
     "execution_count": 241,
     "metadata": {},
     "output_type": "execute_result"
    }
   ],
   "source": [
    "stage_data.head()"
   ]
  },
  {
   "cell_type": "code",
   "execution_count": 242,
   "metadata": {},
   "outputs": [],
   "source": [
    "stage_data['Duration']=stage_data['Duration'].astype('float')\n",
    "stage_data['Start']=stage_data['Start'].astype('float')"
   ]
  },
  {
   "cell_type": "code",
   "execution_count": 243,
   "metadata": {},
   "outputs": [],
   "source": [
    "#adding stop column to dataframe using start and duration\n",
    "stage_data['Stop']=stage_data['Start']+stage_data['Duration']"
   ]
  },
  {
   "cell_type": "code",
   "execution_count": 244,
   "metadata": {},
   "outputs": [
    {
     "data": {
      "text/html": [
       "<div>\n",
       "<style scoped>\n",
       "    .dataframe tbody tr th:only-of-type {\n",
       "        vertical-align: middle;\n",
       "    }\n",
       "\n",
       "    .dataframe tbody tr th {\n",
       "        vertical-align: top;\n",
       "    }\n",
       "\n",
       "    .dataframe thead th {\n",
       "        text-align: right;\n",
       "    }\n",
       "</style>\n",
       "<table border=\"1\" class=\"dataframe\">\n",
       "  <thead>\n",
       "    <tr style=\"text-align: right;\">\n",
       "      <th></th>\n",
       "      <th>Duration</th>\n",
       "      <th>Stages</th>\n",
       "      <th>Start</th>\n",
       "      <th>Type</th>\n",
       "      <th>Stop</th>\n",
       "    </tr>\n",
       "  </thead>\n",
       "  <tbody>\n",
       "    <tr>\n",
       "      <th>0</th>\n",
       "      <td>5190.0</td>\n",
       "      <td>Wake|0</td>\n",
       "      <td>0.0</td>\n",
       "      <td>Stages|Stages</td>\n",
       "      <td>5190.0</td>\n",
       "    </tr>\n",
       "    <tr>\n",
       "      <th>1</th>\n",
       "      <td>30.0</td>\n",
       "      <td>Stage 1 sleep|1</td>\n",
       "      <td>5190.0</td>\n",
       "      <td>Stages|Stages</td>\n",
       "      <td>5220.0</td>\n",
       "    </tr>\n",
       "    <tr>\n",
       "      <th>2</th>\n",
       "      <td>90.0</td>\n",
       "      <td>Wake|0</td>\n",
       "      <td>5220.0</td>\n",
       "      <td>Stages|Stages</td>\n",
       "      <td>5310.0</td>\n",
       "    </tr>\n",
       "    <tr>\n",
       "      <th>3</th>\n",
       "      <td>60.0</td>\n",
       "      <td>Stage 1 sleep|1</td>\n",
       "      <td>5310.0</td>\n",
       "      <td>Stages|Stages</td>\n",
       "      <td>5370.0</td>\n",
       "    </tr>\n",
       "    <tr>\n",
       "      <th>4</th>\n",
       "      <td>90.0</td>\n",
       "      <td>Stage 2 sleep|2</td>\n",
       "      <td>5370.0</td>\n",
       "      <td>Stages|Stages</td>\n",
       "      <td>5460.0</td>\n",
       "    </tr>\n",
       "  </tbody>\n",
       "</table>\n",
       "</div>"
      ],
      "text/plain": [
       "   Duration           Stages   Start           Type    Stop\n",
       "0    5190.0           Wake|0     0.0  Stages|Stages  5190.0\n",
       "1      30.0  Stage 1 sleep|1  5190.0  Stages|Stages  5220.0\n",
       "2      90.0           Wake|0  5220.0  Stages|Stages  5310.0\n",
       "3      60.0  Stage 1 sleep|1  5310.0  Stages|Stages  5370.0\n",
       "4      90.0  Stage 2 sleep|2  5370.0  Stages|Stages  5460.0"
      ]
     },
     "execution_count": 244,
     "metadata": {},
     "output_type": "execute_result"
    }
   ],
   "source": [
    "stage_data.head()"
   ]
  },
  {
   "cell_type": "markdown",
   "metadata": {},
   "source": [
    "### working with flow,apnea"
   ]
  },
  {
   "cell_type": "code",
   "execution_count": 245,
   "metadata": {},
   "outputs": [],
   "source": [
    "edf_data['Apnea']=-1  #initialize with '-1'\n",
    "edf_data['Stage']=-1  #initialize with '-1"
   ]
  },
  {
   "cell_type": "code",
   "execution_count": 246,
   "metadata": {},
   "outputs": [],
   "source": [
    "def apnea(row):\n",
    "    x=row['Time']\n",
    "    flag=0   #initialize flag=0 indicates no entry\n",
    "    for l,m in zip(a,b):\n",
    "        if ((x>=l) and (x<=m)):\n",
    "            flag=1\n",
    "            return flag\n",
    "    return flag"
   ]
  },
  {
   "cell_type": "code",
   "execution_count": 247,
   "metadata": {},
   "outputs": [],
   "source": [
    "#mark 0 in column 'Apnea', if apnea_data dataframe has no entry of epoch\n",
    "#mark 1 in column 'Apnea', if apnea_data dataframe has entry of epoch\n",
    "a=apnea_data['Start'].values   #start times\n",
    "b=apnea_data['Stop'].values    #stop times\n",
    "edf_data['Apnea']=edf_data.apply(apnea,axis=1)"
   ]
  },
  {
   "cell_type": "code",
   "execution_count": 248,
   "metadata": {},
   "outputs": [
    {
     "data": {
      "text/html": [
       "<div>\n",
       "<style scoped>\n",
       "    .dataframe tbody tr th:only-of-type {\n",
       "        vertical-align: middle;\n",
       "    }\n",
       "\n",
       "    .dataframe tbody tr th {\n",
       "        vertical-align: top;\n",
       "    }\n",
       "\n",
       "    .dataframe thead th {\n",
       "        text-align: right;\n",
       "    }\n",
       "</style>\n",
       "<table border=\"1\" class=\"dataframe\">\n",
       "  <thead>\n",
       "    <tr style=\"text-align: right;\">\n",
       "      <th></th>\n",
       "      <th>Time</th>\n",
       "      <th>Flow</th>\n",
       "      <th>Apnea</th>\n",
       "      <th>Stage</th>\n",
       "    </tr>\n",
       "  </thead>\n",
       "  <tbody>\n",
       "    <tr>\n",
       "      <th>0</th>\n",
       "      <td>0.00000</td>\n",
       "      <td>-0.06986</td>\n",
       "      <td>0</td>\n",
       "      <td>-1</td>\n",
       "    </tr>\n",
       "    <tr>\n",
       "      <th>1</th>\n",
       "      <td>0.03125</td>\n",
       "      <td>-0.08927</td>\n",
       "      <td>0</td>\n",
       "      <td>-1</td>\n",
       "    </tr>\n",
       "    <tr>\n",
       "      <th>2</th>\n",
       "      <td>0.06250</td>\n",
       "      <td>-0.09018</td>\n",
       "      <td>0</td>\n",
       "      <td>-1</td>\n",
       "    </tr>\n",
       "    <tr>\n",
       "      <th>3</th>\n",
       "      <td>0.09375</td>\n",
       "      <td>-0.09165</td>\n",
       "      <td>0</td>\n",
       "      <td>-1</td>\n",
       "    </tr>\n",
       "    <tr>\n",
       "      <th>4</th>\n",
       "      <td>0.12500</td>\n",
       "      <td>-0.09384</td>\n",
       "      <td>0</td>\n",
       "      <td>-1</td>\n",
       "    </tr>\n",
       "  </tbody>\n",
       "</table>\n",
       "</div>"
      ],
      "text/plain": [
       "      Time     Flow  Apnea  Stage\n",
       "0  0.00000 -0.06986      0     -1\n",
       "1  0.03125 -0.08927      0     -1\n",
       "2  0.06250 -0.09018      0     -1\n",
       "3  0.09375 -0.09165      0     -1\n",
       "4  0.12500 -0.09384      0     -1"
      ]
     },
     "execution_count": 248,
     "metadata": {},
     "output_type": "execute_result"
    }
   ],
   "source": [
    "edf_data.head()"
   ]
  },
  {
   "cell_type": "code",
   "execution_count": 249,
   "metadata": {},
   "outputs": [
    {
     "data": {
      "text/html": [
       "<div>\n",
       "<style scoped>\n",
       "    .dataframe tbody tr th:only-of-type {\n",
       "        vertical-align: middle;\n",
       "    }\n",
       "\n",
       "    .dataframe tbody tr th {\n",
       "        vertical-align: top;\n",
       "    }\n",
       "\n",
       "    .dataframe thead th {\n",
       "        text-align: right;\n",
       "    }\n",
       "</style>\n",
       "<table border=\"1\" class=\"dataframe\">\n",
       "  <thead>\n",
       "    <tr style=\"text-align: right;\">\n",
       "      <th></th>\n",
       "      <th>Time</th>\n",
       "      <th>Flow</th>\n",
       "      <th>Apnea</th>\n",
       "      <th>Stage</th>\n",
       "    </tr>\n",
       "  </thead>\n",
       "  <tbody>\n",
       "    <tr>\n",
       "      <th>175671</th>\n",
       "      <td>5489.71875</td>\n",
       "      <td>0.08853</td>\n",
       "      <td>1</td>\n",
       "      <td>-1</td>\n",
       "    </tr>\n",
       "    <tr>\n",
       "      <th>175672</th>\n",
       "      <td>5489.75000</td>\n",
       "      <td>0.08835</td>\n",
       "      <td>1</td>\n",
       "      <td>-1</td>\n",
       "    </tr>\n",
       "    <tr>\n",
       "      <th>175673</th>\n",
       "      <td>5489.78125</td>\n",
       "      <td>0.08945</td>\n",
       "      <td>1</td>\n",
       "      <td>-1</td>\n",
       "    </tr>\n",
       "    <tr>\n",
       "      <th>175674</th>\n",
       "      <td>5489.81250</td>\n",
       "      <td>0.09018</td>\n",
       "      <td>1</td>\n",
       "      <td>-1</td>\n",
       "    </tr>\n",
       "    <tr>\n",
       "      <th>175675</th>\n",
       "      <td>5489.84375</td>\n",
       "      <td>0.08798</td>\n",
       "      <td>1</td>\n",
       "      <td>-1</td>\n",
       "    </tr>\n",
       "  </tbody>\n",
       "</table>\n",
       "</div>"
      ],
      "text/plain": [
       "              Time     Flow  Apnea  Stage\n",
       "175671  5489.71875  0.08853      1     -1\n",
       "175672  5489.75000  0.08835      1     -1\n",
       "175673  5489.78125  0.08945      1     -1\n",
       "175674  5489.81250  0.09018      1     -1\n",
       "175675  5489.84375  0.08798      1     -1"
      ]
     },
     "execution_count": 249,
     "metadata": {},
     "output_type": "execute_result"
    }
   ],
   "source": [
    "#see few values which have Apnea=1\n",
    "edf_data[edf_data.Apnea==1].head()"
   ]
  },
  {
   "cell_type": "markdown",
   "metadata": {},
   "source": [
    "### working with stage using flow,apne"
   ]
  },
  {
   "cell_type": "code",
   "execution_count": 262,
   "metadata": {},
   "outputs": [],
   "source": [
    "def stage(row):\n",
    "    if(row['Apnea']==1):\n",
    "        x=row['Time']\n",
    "        for l,m,n in zip(a,b,Stages):\n",
    "            if((x>=l) and (x<=m)):\n",
    "                n=str(n).split('|')[1]\n",
    "                return(n)\n",
    "        return 0\n",
    "    if(row['Apnea']==0):\n",
    "        return 0"
   ]
  },
  {
   "cell_type": "code",
   "execution_count": 263,
   "metadata": {},
   "outputs": [
    {
     "data": {
      "text/plain": [
       "array(['Wake|0', 'Stage 1 sleep|1', 'Stage 2 sleep|2', 'REM sleep|5',\n",
       "       'Stage 3 sleep|3'], dtype=object)"
      ]
     },
     "execution_count": 263,
     "metadata": {},
     "output_type": "execute_result"
    }
   ],
   "source": [
    "stage_data.Stages.unique()"
   ]
  },
  {
   "cell_type": "code",
   "execution_count": 264,
   "metadata": {},
   "outputs": [],
   "source": [
    "a=stage_data['Start'].values   #start times\n",
    "b=stage_data['Stop'].values    #stop times\n",
    "Stages=stage_data['Stages'].values\n",
    "edf_data['Stage']=edf_data.apply(stage,axis=1)"
   ]
  },
  {
   "cell_type": "code",
   "execution_count": 270,
   "metadata": {},
   "outputs": [
    {
     "data": {
      "text/html": [
       "<div>\n",
       "<style scoped>\n",
       "    .dataframe tbody tr th:only-of-type {\n",
       "        vertical-align: middle;\n",
       "    }\n",
       "\n",
       "    .dataframe tbody tr th {\n",
       "        vertical-align: top;\n",
       "    }\n",
       "\n",
       "    .dataframe thead th {\n",
       "        text-align: right;\n",
       "    }\n",
       "</style>\n",
       "<table border=\"1\" class=\"dataframe\">\n",
       "  <thead>\n",
       "    <tr style=\"text-align: right;\">\n",
       "      <th></th>\n",
       "      <th>Time</th>\n",
       "      <th>Flow</th>\n",
       "      <th>Apnea</th>\n",
       "      <th>Stage</th>\n",
       "    </tr>\n",
       "  </thead>\n",
       "  <tbody>\n",
       "    <tr>\n",
       "      <th>175671</th>\n",
       "      <td>5489.71875</td>\n",
       "      <td>0.08853</td>\n",
       "      <td>1</td>\n",
       "      <td>1</td>\n",
       "    </tr>\n",
       "    <tr>\n",
       "      <th>175672</th>\n",
       "      <td>5489.75000</td>\n",
       "      <td>0.08835</td>\n",
       "      <td>1</td>\n",
       "      <td>1</td>\n",
       "    </tr>\n",
       "    <tr>\n",
       "      <th>175673</th>\n",
       "      <td>5489.78125</td>\n",
       "      <td>0.08945</td>\n",
       "      <td>1</td>\n",
       "      <td>1</td>\n",
       "    </tr>\n",
       "    <tr>\n",
       "      <th>175674</th>\n",
       "      <td>5489.81250</td>\n",
       "      <td>0.09018</td>\n",
       "      <td>1</td>\n",
       "      <td>1</td>\n",
       "    </tr>\n",
       "    <tr>\n",
       "      <th>175675</th>\n",
       "      <td>5489.84375</td>\n",
       "      <td>0.08798</td>\n",
       "      <td>1</td>\n",
       "      <td>1</td>\n",
       "    </tr>\n",
       "  </tbody>\n",
       "</table>\n",
       "</div>"
      ],
      "text/plain": [
       "              Time     Flow  Apnea Stage\n",
       "175671  5489.71875  0.08853      1     1\n",
       "175672  5489.75000  0.08835      1     1\n",
       "175673  5489.78125  0.08945      1     1\n",
       "175674  5489.81250  0.09018      1     1\n",
       "175675  5489.84375  0.08798      1     1"
      ]
     },
     "execution_count": 270,
     "metadata": {},
     "output_type": "execute_result"
    }
   ],
   "source": [
    "edf_data[edf_data.Stage=='1'].head()"
   ]
  },
  {
   "cell_type": "code",
   "execution_count": 272,
   "metadata": {},
   "outputs": [
    {
     "data": {
      "text/plain": [
       "10154"
      ]
     },
     "execution_count": 272,
     "metadata": {},
     "output_type": "execute_result"
    }
   ],
   "source": [
    "edf_data[edf_data.Stage=='1'].shape[0]"
   ]
  },
  {
   "cell_type": "markdown",
   "metadata": {},
   "source": [
    "#### number of records with 'Apnea==1' and 'stage==1'  is 10154"
   ]
  },
  {
   "cell_type": "code",
   "execution_count": 267,
   "metadata": {},
   "outputs": [
    {
     "data": {
      "text/html": [
       "<div>\n",
       "<style scoped>\n",
       "    .dataframe tbody tr th:only-of-type {\n",
       "        vertical-align: middle;\n",
       "    }\n",
       "\n",
       "    .dataframe tbody tr th {\n",
       "        vertical-align: top;\n",
       "    }\n",
       "\n",
       "    .dataframe thead th {\n",
       "        text-align: right;\n",
       "    }\n",
       "</style>\n",
       "<table border=\"1\" class=\"dataframe\">\n",
       "  <thead>\n",
       "    <tr style=\"text-align: right;\">\n",
       "      <th></th>\n",
       "      <th>Time</th>\n",
       "      <th>Flow</th>\n",
       "      <th>Apnea</th>\n",
       "      <th>Stage</th>\n",
       "    </tr>\n",
       "  </thead>\n",
       "  <tbody>\n",
       "    <tr>\n",
       "      <th>175681</th>\n",
       "      <td>5490.03125</td>\n",
       "      <td>0.08359</td>\n",
       "      <td>1</td>\n",
       "      <td>2</td>\n",
       "    </tr>\n",
       "    <tr>\n",
       "      <th>175682</th>\n",
       "      <td>5490.06250</td>\n",
       "      <td>0.08139</td>\n",
       "      <td>1</td>\n",
       "      <td>2</td>\n",
       "    </tr>\n",
       "    <tr>\n",
       "      <th>175683</th>\n",
       "      <td>5490.09375</td>\n",
       "      <td>0.07645</td>\n",
       "      <td>1</td>\n",
       "      <td>2</td>\n",
       "    </tr>\n",
       "    <tr>\n",
       "      <th>175684</th>\n",
       "      <td>5490.12500</td>\n",
       "      <td>0.06729</td>\n",
       "      <td>1</td>\n",
       "      <td>2</td>\n",
       "    </tr>\n",
       "    <tr>\n",
       "      <th>175685</th>\n",
       "      <td>5490.15625</td>\n",
       "      <td>0.05942</td>\n",
       "      <td>1</td>\n",
       "      <td>2</td>\n",
       "    </tr>\n",
       "  </tbody>\n",
       "</table>\n",
       "</div>"
      ],
      "text/plain": [
       "              Time     Flow  Apnea Stage\n",
       "175681  5490.03125  0.08359      1     2\n",
       "175682  5490.06250  0.08139      1     2\n",
       "175683  5490.09375  0.07645      1     2\n",
       "175684  5490.12500  0.06729      1     2\n",
       "175685  5490.15625  0.05942      1     2"
      ]
     },
     "execution_count": 267,
     "metadata": {},
     "output_type": "execute_result"
    }
   ],
   "source": [
    "edf_data[edf_data.Stage=='2'].head()"
   ]
  },
  {
   "cell_type": "code",
   "execution_count": 273,
   "metadata": {},
   "outputs": [
    {
     "data": {
      "text/plain": [
       "37238"
      ]
     },
     "execution_count": 273,
     "metadata": {},
     "output_type": "execute_result"
    }
   ],
   "source": [
    "edf_data[edf_data.Stage=='2'].shape[0]"
   ]
  },
  {
   "cell_type": "markdown",
   "metadata": {},
   "source": [
    "#### number of records with 'Apnea==1' and 'stage==2'  is 37238"
   ]
  },
  {
   "cell_type": "code",
   "execution_count": 275,
   "metadata": {},
   "outputs": [
    {
     "data": {
      "text/html": [
       "<div>\n",
       "<style scoped>\n",
       "    .dataframe tbody tr th:only-of-type {\n",
       "        vertical-align: middle;\n",
       "    }\n",
       "\n",
       "    .dataframe tbody tr th {\n",
       "        vertical-align: top;\n",
       "    }\n",
       "\n",
       "    .dataframe thead th {\n",
       "        text-align: right;\n",
       "    }\n",
       "</style>\n",
       "<table border=\"1\" class=\"dataframe\">\n",
       "  <thead>\n",
       "    <tr style=\"text-align: right;\">\n",
       "      <th></th>\n",
       "      <th>Time</th>\n",
       "      <th>Flow</th>\n",
       "      <th>Apnea</th>\n",
       "      <th>Stage</th>\n",
       "    </tr>\n",
       "  </thead>\n",
       "  <tbody>\n",
       "    <tr>\n",
       "      <th>593281</th>\n",
       "      <td>18540.03125</td>\n",
       "      <td>-0.03030</td>\n",
       "      <td>1</td>\n",
       "      <td>3</td>\n",
       "    </tr>\n",
       "    <tr>\n",
       "      <th>593282</th>\n",
       "      <td>18540.06250</td>\n",
       "      <td>-0.03067</td>\n",
       "      <td>1</td>\n",
       "      <td>3</td>\n",
       "    </tr>\n",
       "    <tr>\n",
       "      <th>593283</th>\n",
       "      <td>18540.09375</td>\n",
       "      <td>-0.03122</td>\n",
       "      <td>1</td>\n",
       "      <td>3</td>\n",
       "    </tr>\n",
       "    <tr>\n",
       "      <th>593284</th>\n",
       "      <td>18540.12500</td>\n",
       "      <td>-0.03159</td>\n",
       "      <td>1</td>\n",
       "      <td>3</td>\n",
       "    </tr>\n",
       "    <tr>\n",
       "      <th>593285</th>\n",
       "      <td>18540.15625</td>\n",
       "      <td>-0.03250</td>\n",
       "      <td>1</td>\n",
       "      <td>3</td>\n",
       "    </tr>\n",
       "  </tbody>\n",
       "</table>\n",
       "</div>"
      ],
      "text/plain": [
       "               Time     Flow  Apnea Stage\n",
       "593281  18540.03125 -0.03030      1     3\n",
       "593282  18540.06250 -0.03067      1     3\n",
       "593283  18540.09375 -0.03122      1     3\n",
       "593284  18540.12500 -0.03159      1     3\n",
       "593285  18540.15625 -0.03250      1     3"
      ]
     },
     "execution_count": 275,
     "metadata": {},
     "output_type": "execute_result"
    }
   ],
   "source": [
    "edf_data[edf_data.Stage=='3'].head()"
   ]
  },
  {
   "cell_type": "code",
   "execution_count": 276,
   "metadata": {},
   "outputs": [
    {
     "data": {
      "text/plain": [
       "767"
      ]
     },
     "execution_count": 276,
     "metadata": {},
     "output_type": "execute_result"
    }
   ],
   "source": [
    "edf_data[edf_data.Stage=='3'].shape[0]"
   ]
  },
  {
   "cell_type": "markdown",
   "metadata": {},
   "source": [
    "#### number of records with 'Apnea==1' and 'stage==2'  is 767"
   ]
  },
  {
   "cell_type": "code",
   "execution_count": 277,
   "metadata": {},
   "outputs": [
    {
     "data": {
      "text/html": [
       "<div>\n",
       "<style scoped>\n",
       "    .dataframe tbody tr th:only-of-type {\n",
       "        vertical-align: middle;\n",
       "    }\n",
       "\n",
       "    .dataframe tbody tr th {\n",
       "        vertical-align: top;\n",
       "    }\n",
       "\n",
       "    .dataframe thead th {\n",
       "        text-align: right;\n",
       "    }\n",
       "</style>\n",
       "<table border=\"1\" class=\"dataframe\">\n",
       "  <thead>\n",
       "    <tr style=\"text-align: right;\">\n",
       "      <th></th>\n",
       "      <th>Time</th>\n",
       "      <th>Flow</th>\n",
       "      <th>Apnea</th>\n",
       "      <th>Stage</th>\n",
       "    </tr>\n",
       "  </thead>\n",
       "  <tbody>\n",
       "    <tr>\n",
       "      <th>799946</th>\n",
       "      <td>24998.31250</td>\n",
       "      <td>0.00705</td>\n",
       "      <td>1</td>\n",
       "      <td>5</td>\n",
       "    </tr>\n",
       "    <tr>\n",
       "      <th>799947</th>\n",
       "      <td>24998.34375</td>\n",
       "      <td>0.01401</td>\n",
       "      <td>1</td>\n",
       "      <td>5</td>\n",
       "    </tr>\n",
       "    <tr>\n",
       "      <th>799948</th>\n",
       "      <td>24998.37500</td>\n",
       "      <td>0.02756</td>\n",
       "      <td>1</td>\n",
       "      <td>5</td>\n",
       "    </tr>\n",
       "    <tr>\n",
       "      <th>799949</th>\n",
       "      <td>24998.40625</td>\n",
       "      <td>0.04385</td>\n",
       "      <td>1</td>\n",
       "      <td>5</td>\n",
       "    </tr>\n",
       "    <tr>\n",
       "      <th>799950</th>\n",
       "      <td>24998.43750</td>\n",
       "      <td>0.05686</td>\n",
       "      <td>1</td>\n",
       "      <td>5</td>\n",
       "    </tr>\n",
       "  </tbody>\n",
       "</table>\n",
       "</div>"
      ],
      "text/plain": [
       "               Time     Flow  Apnea Stage\n",
       "799946  24998.31250  0.00705      1     5\n",
       "799947  24998.34375  0.01401      1     5\n",
       "799948  24998.37500  0.02756      1     5\n",
       "799949  24998.40625  0.04385      1     5\n",
       "799950  24998.43750  0.05686      1     5"
      ]
     },
     "execution_count": 277,
     "metadata": {},
     "output_type": "execute_result"
    }
   ],
   "source": [
    "edf_data[edf_data.Stage=='5'].head()"
   ]
  },
  {
   "cell_type": "code",
   "execution_count": 278,
   "metadata": {},
   "outputs": [
    {
     "data": {
      "text/plain": [
       "7586"
      ]
     },
     "execution_count": 278,
     "metadata": {},
     "output_type": "execute_result"
    }
   ],
   "source": [
    "edf_data[edf_data.Stage=='5'].shape[0]"
   ]
  },
  {
   "cell_type": "markdown",
   "metadata": {},
   "source": [
    "#### number of records with 'Apnea==1' and 'stage==2'  is 7586"
   ]
  },
  {
   "cell_type": "markdown",
   "metadata": {},
   "source": [
    "## Result"
   ]
  },
  {
   "cell_type": "markdown",
   "metadata": {},
   "source": [
    "### 'edf_data' data frame contains merged data from flow,apnea and stage"
   ]
  },
  {
   "cell_type": "code",
   "execution_count": 279,
   "metadata": {},
   "outputs": [
    {
     "data": {
      "text/html": [
       "<div>\n",
       "<style scoped>\n",
       "    .dataframe tbody tr th:only-of-type {\n",
       "        vertical-align: middle;\n",
       "    }\n",
       "\n",
       "    .dataframe tbody tr th {\n",
       "        vertical-align: top;\n",
       "    }\n",
       "\n",
       "    .dataframe thead th {\n",
       "        text-align: right;\n",
       "    }\n",
       "</style>\n",
       "<table border=\"1\" class=\"dataframe\">\n",
       "  <thead>\n",
       "    <tr style=\"text-align: right;\">\n",
       "      <th></th>\n",
       "      <th>Time</th>\n",
       "      <th>Flow</th>\n",
       "      <th>Apnea</th>\n",
       "      <th>Stage</th>\n",
       "    </tr>\n",
       "  </thead>\n",
       "  <tbody>\n",
       "    <tr>\n",
       "      <th>0</th>\n",
       "      <td>0.00000</td>\n",
       "      <td>-0.06986</td>\n",
       "      <td>0</td>\n",
       "      <td>0</td>\n",
       "    </tr>\n",
       "    <tr>\n",
       "      <th>1</th>\n",
       "      <td>0.03125</td>\n",
       "      <td>-0.08927</td>\n",
       "      <td>0</td>\n",
       "      <td>0</td>\n",
       "    </tr>\n",
       "    <tr>\n",
       "      <th>2</th>\n",
       "      <td>0.06250</td>\n",
       "      <td>-0.09018</td>\n",
       "      <td>0</td>\n",
       "      <td>0</td>\n",
       "    </tr>\n",
       "    <tr>\n",
       "      <th>3</th>\n",
       "      <td>0.09375</td>\n",
       "      <td>-0.09165</td>\n",
       "      <td>0</td>\n",
       "      <td>0</td>\n",
       "    </tr>\n",
       "    <tr>\n",
       "      <th>4</th>\n",
       "      <td>0.12500</td>\n",
       "      <td>-0.09384</td>\n",
       "      <td>0</td>\n",
       "      <td>0</td>\n",
       "    </tr>\n",
       "    <tr>\n",
       "      <th>5</th>\n",
       "      <td>0.15625</td>\n",
       "      <td>-0.09677</td>\n",
       "      <td>0</td>\n",
       "      <td>0</td>\n",
       "    </tr>\n",
       "    <tr>\n",
       "      <th>6</th>\n",
       "      <td>0.18750</td>\n",
       "      <td>-0.09824</td>\n",
       "      <td>0</td>\n",
       "      <td>0</td>\n",
       "    </tr>\n",
       "    <tr>\n",
       "      <th>7</th>\n",
       "      <td>0.21875</td>\n",
       "      <td>-0.09769</td>\n",
       "      <td>0</td>\n",
       "      <td>0</td>\n",
       "    </tr>\n",
       "    <tr>\n",
       "      <th>8</th>\n",
       "      <td>0.25000</td>\n",
       "      <td>-0.09586</td>\n",
       "      <td>0</td>\n",
       "      <td>0</td>\n",
       "    </tr>\n",
       "    <tr>\n",
       "      <th>9</th>\n",
       "      <td>0.28125</td>\n",
       "      <td>-0.08981</td>\n",
       "      <td>0</td>\n",
       "      <td>0</td>\n",
       "    </tr>\n",
       "    <tr>\n",
       "      <th>10</th>\n",
       "      <td>0.31250</td>\n",
       "      <td>-0.08231</td>\n",
       "      <td>0</td>\n",
       "      <td>0</td>\n",
       "    </tr>\n",
       "    <tr>\n",
       "      <th>11</th>\n",
       "      <td>0.34375</td>\n",
       "      <td>-0.07480</td>\n",
       "      <td>0</td>\n",
       "      <td>0</td>\n",
       "    </tr>\n",
       "    <tr>\n",
       "      <th>12</th>\n",
       "      <td>0.37500</td>\n",
       "      <td>-0.06546</td>\n",
       "      <td>0</td>\n",
       "      <td>0</td>\n",
       "    </tr>\n",
       "    <tr>\n",
       "      <th>13</th>\n",
       "      <td>0.40625</td>\n",
       "      <td>-0.05686</td>\n",
       "      <td>0</td>\n",
       "      <td>0</td>\n",
       "    </tr>\n",
       "    <tr>\n",
       "      <th>14</th>\n",
       "      <td>0.43750</td>\n",
       "      <td>-0.05576</td>\n",
       "      <td>0</td>\n",
       "      <td>0</td>\n",
       "    </tr>\n",
       "    <tr>\n",
       "      <th>15</th>\n",
       "      <td>0.46875</td>\n",
       "      <td>-0.05814</td>\n",
       "      <td>0</td>\n",
       "      <td>0</td>\n",
       "    </tr>\n",
       "    <tr>\n",
       "      <th>16</th>\n",
       "      <td>0.50000</td>\n",
       "      <td>-0.05795</td>\n",
       "      <td>0</td>\n",
       "      <td>0</td>\n",
       "    </tr>\n",
       "    <tr>\n",
       "      <th>17</th>\n",
       "      <td>0.53125</td>\n",
       "      <td>-0.05631</td>\n",
       "      <td>0</td>\n",
       "      <td>0</td>\n",
       "    </tr>\n",
       "    <tr>\n",
       "      <th>18</th>\n",
       "      <td>0.56250</td>\n",
       "      <td>-0.05814</td>\n",
       "      <td>0</td>\n",
       "      <td>0</td>\n",
       "    </tr>\n",
       "    <tr>\n",
       "      <th>19</th>\n",
       "      <td>0.59375</td>\n",
       "      <td>-0.06033</td>\n",
       "      <td>0</td>\n",
       "      <td>0</td>\n",
       "    </tr>\n",
       "    <tr>\n",
       "      <th>20</th>\n",
       "      <td>0.62500</td>\n",
       "      <td>-0.06070</td>\n",
       "      <td>0</td>\n",
       "      <td>0</td>\n",
       "    </tr>\n",
       "    <tr>\n",
       "      <th>21</th>\n",
       "      <td>0.65625</td>\n",
       "      <td>-0.06253</td>\n",
       "      <td>0</td>\n",
       "      <td>0</td>\n",
       "    </tr>\n",
       "    <tr>\n",
       "      <th>22</th>\n",
       "      <td>0.68750</td>\n",
       "      <td>-0.06857</td>\n",
       "      <td>0</td>\n",
       "      <td>0</td>\n",
       "    </tr>\n",
       "    <tr>\n",
       "      <th>23</th>\n",
       "      <td>0.71875</td>\n",
       "      <td>-0.07169</td>\n",
       "      <td>0</td>\n",
       "      <td>0</td>\n",
       "    </tr>\n",
       "    <tr>\n",
       "      <th>24</th>\n",
       "      <td>0.75000</td>\n",
       "      <td>-0.07004</td>\n",
       "      <td>0</td>\n",
       "      <td>0</td>\n",
       "    </tr>\n",
       "    <tr>\n",
       "      <th>25</th>\n",
       "      <td>0.78125</td>\n",
       "      <td>-0.07205</td>\n",
       "      <td>0</td>\n",
       "      <td>0</td>\n",
       "    </tr>\n",
       "    <tr>\n",
       "      <th>26</th>\n",
       "      <td>0.81250</td>\n",
       "      <td>-0.07608</td>\n",
       "      <td>0</td>\n",
       "      <td>0</td>\n",
       "    </tr>\n",
       "    <tr>\n",
       "      <th>27</th>\n",
       "      <td>0.84375</td>\n",
       "      <td>-0.07645</td>\n",
       "      <td>0</td>\n",
       "      <td>0</td>\n",
       "    </tr>\n",
       "    <tr>\n",
       "      <th>28</th>\n",
       "      <td>0.87500</td>\n",
       "      <td>-0.07791</td>\n",
       "      <td>0</td>\n",
       "      <td>0</td>\n",
       "    </tr>\n",
       "    <tr>\n",
       "      <th>29</th>\n",
       "      <td>0.90625</td>\n",
       "      <td>-0.08011</td>\n",
       "      <td>0</td>\n",
       "      <td>0</td>\n",
       "    </tr>\n",
       "    <tr>\n",
       "      <th>...</th>\n",
       "      <td>...</td>\n",
       "      <td>...</td>\n",
       "      <td>...</td>\n",
       "      <td>...</td>\n",
       "    </tr>\n",
       "    <tr>\n",
       "      <th>1382338</th>\n",
       "      <td>43198.06250</td>\n",
       "      <td>-0.00156</td>\n",
       "      <td>0</td>\n",
       "      <td>0</td>\n",
       "    </tr>\n",
       "    <tr>\n",
       "      <th>1382339</th>\n",
       "      <td>43198.09375</td>\n",
       "      <td>-0.00027</td>\n",
       "      <td>0</td>\n",
       "      <td>0</td>\n",
       "    </tr>\n",
       "    <tr>\n",
       "      <th>1382340</th>\n",
       "      <td>43198.12500</td>\n",
       "      <td>0.00156</td>\n",
       "      <td>0</td>\n",
       "      <td>0</td>\n",
       "    </tr>\n",
       "    <tr>\n",
       "      <th>1382341</th>\n",
       "      <td>43198.15625</td>\n",
       "      <td>0.00247</td>\n",
       "      <td>0</td>\n",
       "      <td>0</td>\n",
       "    </tr>\n",
       "    <tr>\n",
       "      <th>1382342</th>\n",
       "      <td>43198.18750</td>\n",
       "      <td>0.00467</td>\n",
       "      <td>0</td>\n",
       "      <td>0</td>\n",
       "    </tr>\n",
       "    <tr>\n",
       "      <th>1382343</th>\n",
       "      <td>43198.21875</td>\n",
       "      <td>0.00467</td>\n",
       "      <td>0</td>\n",
       "      <td>0</td>\n",
       "    </tr>\n",
       "    <tr>\n",
       "      <th>1382344</th>\n",
       "      <td>43198.25000</td>\n",
       "      <td>0.00009</td>\n",
       "      <td>0</td>\n",
       "      <td>0</td>\n",
       "    </tr>\n",
       "    <tr>\n",
       "      <th>1382345</th>\n",
       "      <td>43198.28125</td>\n",
       "      <td>-0.00082</td>\n",
       "      <td>0</td>\n",
       "      <td>0</td>\n",
       "    </tr>\n",
       "    <tr>\n",
       "      <th>1382346</th>\n",
       "      <td>43198.31250</td>\n",
       "      <td>0.00339</td>\n",
       "      <td>0</td>\n",
       "      <td>0</td>\n",
       "    </tr>\n",
       "    <tr>\n",
       "      <th>1382347</th>\n",
       "      <td>43198.34375</td>\n",
       "      <td>0.00375</td>\n",
       "      <td>0</td>\n",
       "      <td>0</td>\n",
       "    </tr>\n",
       "    <tr>\n",
       "      <th>1382348</th>\n",
       "      <td>43198.37500</td>\n",
       "      <td>-0.00082</td>\n",
       "      <td>0</td>\n",
       "      <td>0</td>\n",
       "    </tr>\n",
       "    <tr>\n",
       "      <th>1382349</th>\n",
       "      <td>43198.40625</td>\n",
       "      <td>-0.00156</td>\n",
       "      <td>0</td>\n",
       "      <td>0</td>\n",
       "    </tr>\n",
       "    <tr>\n",
       "      <th>1382350</th>\n",
       "      <td>43198.43750</td>\n",
       "      <td>0.00211</td>\n",
       "      <td>0</td>\n",
       "      <td>0</td>\n",
       "    </tr>\n",
       "    <tr>\n",
       "      <th>1382351</th>\n",
       "      <td>43198.46875</td>\n",
       "      <td>0.00302</td>\n",
       "      <td>0</td>\n",
       "      <td>0</td>\n",
       "    </tr>\n",
       "    <tr>\n",
       "      <th>1382352</th>\n",
       "      <td>43198.50000</td>\n",
       "      <td>0.00009</td>\n",
       "      <td>0</td>\n",
       "      <td>0</td>\n",
       "    </tr>\n",
       "    <tr>\n",
       "      <th>1382353</th>\n",
       "      <td>43198.53125</td>\n",
       "      <td>-0.00046</td>\n",
       "      <td>0</td>\n",
       "      <td>0</td>\n",
       "    </tr>\n",
       "    <tr>\n",
       "      <th>1382354</th>\n",
       "      <td>43198.56250</td>\n",
       "      <td>0.00082</td>\n",
       "      <td>0</td>\n",
       "      <td>0</td>\n",
       "    </tr>\n",
       "    <tr>\n",
       "      <th>1382355</th>\n",
       "      <td>43198.59375</td>\n",
       "      <td>0.00009</td>\n",
       "      <td>0</td>\n",
       "      <td>0</td>\n",
       "    </tr>\n",
       "    <tr>\n",
       "      <th>1382356</th>\n",
       "      <td>43198.62500</td>\n",
       "      <td>-0.00119</td>\n",
       "      <td>0</td>\n",
       "      <td>0</td>\n",
       "    </tr>\n",
       "    <tr>\n",
       "      <th>1382357</th>\n",
       "      <td>43198.65625</td>\n",
       "      <td>0.00027</td>\n",
       "      <td>0</td>\n",
       "      <td>0</td>\n",
       "    </tr>\n",
       "    <tr>\n",
       "      <th>1382358</th>\n",
       "      <td>43198.68750</td>\n",
       "      <td>0.00082</td>\n",
       "      <td>0</td>\n",
       "      <td>0</td>\n",
       "    </tr>\n",
       "    <tr>\n",
       "      <th>1382359</th>\n",
       "      <td>43198.71875</td>\n",
       "      <td>-0.00156</td>\n",
       "      <td>0</td>\n",
       "      <td>0</td>\n",
       "    </tr>\n",
       "    <tr>\n",
       "      <th>1382360</th>\n",
       "      <td>43198.75000</td>\n",
       "      <td>0.00009</td>\n",
       "      <td>0</td>\n",
       "      <td>0</td>\n",
       "    </tr>\n",
       "    <tr>\n",
       "      <th>1382361</th>\n",
       "      <td>43198.78125</td>\n",
       "      <td>0.00302</td>\n",
       "      <td>0</td>\n",
       "      <td>0</td>\n",
       "    </tr>\n",
       "    <tr>\n",
       "      <th>1382362</th>\n",
       "      <td>43198.81250</td>\n",
       "      <td>0.00009</td>\n",
       "      <td>0</td>\n",
       "      <td>0</td>\n",
       "    </tr>\n",
       "    <tr>\n",
       "      <th>1382363</th>\n",
       "      <td>43198.84375</td>\n",
       "      <td>-0.00339</td>\n",
       "      <td>0</td>\n",
       "      <td>0</td>\n",
       "    </tr>\n",
       "    <tr>\n",
       "      <th>1382364</th>\n",
       "      <td>43198.87500</td>\n",
       "      <td>0.00046</td>\n",
       "      <td>0</td>\n",
       "      <td>0</td>\n",
       "    </tr>\n",
       "    <tr>\n",
       "      <th>1382365</th>\n",
       "      <td>43198.90625</td>\n",
       "      <td>0.00375</td>\n",
       "      <td>0</td>\n",
       "      <td>0</td>\n",
       "    </tr>\n",
       "    <tr>\n",
       "      <th>1382366</th>\n",
       "      <td>43198.93750</td>\n",
       "      <td>0.00156</td>\n",
       "      <td>0</td>\n",
       "      <td>0</td>\n",
       "    </tr>\n",
       "    <tr>\n",
       "      <th>1382367</th>\n",
       "      <td>43198.96875</td>\n",
       "      <td>0.00027</td>\n",
       "      <td>0</td>\n",
       "      <td>0</td>\n",
       "    </tr>\n",
       "  </tbody>\n",
       "</table>\n",
       "<p>1382368 rows × 4 columns</p>\n",
       "</div>"
      ],
      "text/plain": [
       "                Time     Flow  Apnea Stage\n",
       "0            0.00000 -0.06986      0     0\n",
       "1            0.03125 -0.08927      0     0\n",
       "2            0.06250 -0.09018      0     0\n",
       "3            0.09375 -0.09165      0     0\n",
       "4            0.12500 -0.09384      0     0\n",
       "5            0.15625 -0.09677      0     0\n",
       "6            0.18750 -0.09824      0     0\n",
       "7            0.21875 -0.09769      0     0\n",
       "8            0.25000 -0.09586      0     0\n",
       "9            0.28125 -0.08981      0     0\n",
       "10           0.31250 -0.08231      0     0\n",
       "11           0.34375 -0.07480      0     0\n",
       "12           0.37500 -0.06546      0     0\n",
       "13           0.40625 -0.05686      0     0\n",
       "14           0.43750 -0.05576      0     0\n",
       "15           0.46875 -0.05814      0     0\n",
       "16           0.50000 -0.05795      0     0\n",
       "17           0.53125 -0.05631      0     0\n",
       "18           0.56250 -0.05814      0     0\n",
       "19           0.59375 -0.06033      0     0\n",
       "20           0.62500 -0.06070      0     0\n",
       "21           0.65625 -0.06253      0     0\n",
       "22           0.68750 -0.06857      0     0\n",
       "23           0.71875 -0.07169      0     0\n",
       "24           0.75000 -0.07004      0     0\n",
       "25           0.78125 -0.07205      0     0\n",
       "26           0.81250 -0.07608      0     0\n",
       "27           0.84375 -0.07645      0     0\n",
       "28           0.87500 -0.07791      0     0\n",
       "29           0.90625 -0.08011      0     0\n",
       "...              ...      ...    ...   ...\n",
       "1382338  43198.06250 -0.00156      0     0\n",
       "1382339  43198.09375 -0.00027      0     0\n",
       "1382340  43198.12500  0.00156      0     0\n",
       "1382341  43198.15625  0.00247      0     0\n",
       "1382342  43198.18750  0.00467      0     0\n",
       "1382343  43198.21875  0.00467      0     0\n",
       "1382344  43198.25000  0.00009      0     0\n",
       "1382345  43198.28125 -0.00082      0     0\n",
       "1382346  43198.31250  0.00339      0     0\n",
       "1382347  43198.34375  0.00375      0     0\n",
       "1382348  43198.37500 -0.00082      0     0\n",
       "1382349  43198.40625 -0.00156      0     0\n",
       "1382350  43198.43750  0.00211      0     0\n",
       "1382351  43198.46875  0.00302      0     0\n",
       "1382352  43198.50000  0.00009      0     0\n",
       "1382353  43198.53125 -0.00046      0     0\n",
       "1382354  43198.56250  0.00082      0     0\n",
       "1382355  43198.59375  0.00009      0     0\n",
       "1382356  43198.62500 -0.00119      0     0\n",
       "1382357  43198.65625  0.00027      0     0\n",
       "1382358  43198.68750  0.00082      0     0\n",
       "1382359  43198.71875 -0.00156      0     0\n",
       "1382360  43198.75000  0.00009      0     0\n",
       "1382361  43198.78125  0.00302      0     0\n",
       "1382362  43198.81250  0.00009      0     0\n",
       "1382363  43198.84375 -0.00339      0     0\n",
       "1382364  43198.87500  0.00046      0     0\n",
       "1382365  43198.90625  0.00375      0     0\n",
       "1382366  43198.93750  0.00156      0     0\n",
       "1382367  43198.96875  0.00027      0     0\n",
       "\n",
       "[1382368 rows x 4 columns]"
      ]
     },
     "execution_count": 279,
     "metadata": {},
     "output_type": "execute_result"
    }
   ],
   "source": [
    "edf_data"
   ]
  }
 ],
 "metadata": {
  "kernelspec": {
   "display_name": "Python 3",
   "language": "python",
   "name": "python3"
  },
  "language_info": {
   "codemirror_mode": {
    "name": "ipython",
    "version": 3
   },
   "file_extension": ".py",
   "mimetype": "text/x-python",
   "name": "python",
   "nbconvert_exporter": "python",
   "pygments_lexer": "ipython3",
   "version": "3.5.5"
  }
 },
 "nbformat": 4,
 "nbformat_minor": 2
}
